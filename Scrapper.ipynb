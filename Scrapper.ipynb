{
 "cells": [
  {
   "cell_type": "code",
   "execution_count": 3,
   "id": "855a0847",
   "metadata": {},
   "outputs": [],
   "source": [
    "from bs4 import BeautifulSoup\n"
   ]
  },
  {
   "cell_type": "code",
   "execution_count": 10,
   "id": "d9c15bed",
   "metadata": {},
   "outputs": [],
   "source": [
    "with open (\"fairy.html\") as file:\n",
    "    soup=BeautifulSoup(file,\"html.parser\")"
   ]
  },
  {
   "cell_type": "code",
   "execution_count": 12,
   "id": "9ba04ae6",
   "metadata": {},
   "outputs": [
    {
     "data": {
      "text/plain": [
       "bs4.BeautifulSoup"
      ]
     },
     "execution_count": 12,
     "metadata": {},
     "output_type": "execute_result"
    }
   ],
   "source": [
    "type(soup)"
   ]
  },
  {
   "cell_type": "code",
   "execution_count": 16,
   "id": "c8365862",
   "metadata": {},
   "outputs": [
    {
     "name": "stdout",
     "output_type": "stream",
     "text": [
      "<!DOCTYPE html>\n",
      "<html lang=\"en\">\n",
      " <head>\n",
      "  <meta charset=\"utf-8\"/>\n",
      "  <title>\n",
      "   Happy Birthday Bestie! ðŸŽ‰\n",
      "  </title>\n",
      "  <style>\n",
      "   body {\n",
      "      margin: 0;\n",
      "      padding: 0;\n",
      "      background: linear-gradient(135deg, #ff9a9e, #fad0c4);\n",
      "      font-family: 'Comic Sans MS', cursive, sans-serif;\n",
      "      display: flex;\n",
      "      justify-content: center;\n",
      "      align-items: center;\n",
      "      height: 100vh;\n",
      "      overflow: hidden;\n",
      "    }\n",
      "\n",
      "    .card {\n",
      "      background: white;\n",
      "      padding: 30px 40px;\n",
      "      border-radius: 20px;\n",
      "      box-shadow: 0 15px 30px rgba(0,0,0,0.2);\n",
      "      text-align: center;\n",
      "      max-width: 500px;\n",
      "      animation: fadeIn 2s ease;\n",
      "    }\n",
      "\n",
      "    h1 {\n",
      "      color: #ff6f91;\n",
      "      font-size: 3em;\n",
      "      margin-bottom: 10px;\n",
      "      animation: float 2s ease-in-out infinite;\n",
      "    }\n",
      "\n",
      "    p {\n",
      "      color: #333;\n",
      "      font-size: 1.2em;\n",
      "      margin-top: 10px;\n",
      "      line-height: 1.6;\n",
      "    }\n",
      "\n",
      "    .heart {\n",
      "      font-size: 2.5em;\n",
      "      color: #ff6f91;\n",
      "      animation: beat 1s infinite;\n",
      "      margin-top: 20px;\n",
      "    }\n",
      "\n",
      "    @keyframes float {\n",
      "      0% { transform: translateY(0); }\n",
      "      50% { transform: translateY(-10px); }\n",
      "      100% { transform: translateY(0); }\n",
      "    }\n",
      "\n",
      "    @keyframes beat {\n",
      "      0%, 100% { transform: scale(1); }\n",
      "      50% { transform: scale(1.3); }\n",
      "    }\n",
      "\n",
      "    @keyframes fadeIn {\n",
      "      from { opacity: 0; transform: scale(0.8); }\n",
      "      to { opacity: 1; transform: scale(1); }\n",
      "    }\n",
      "\n",
      "    .confetti {\n",
      "      position: absolute;\n",
      "      width: 10px;\n",
      "      height: 10px;\n",
      "      background: yellow;\n",
      "      top: 0;\n",
      "      animation: fall 5s linear infinite;\n",
      "      opacity: 0.8;\n",
      "    }\n",
      "\n",
      "    @keyframes fall {\n",
      "      to {\n",
      "        transform: translateY(100vh) rotate(360deg);\n",
      "      }\n",
      "    }\n",
      "  </style>\n",
      " </head>\n",
      " <body>\n",
      "  <div class=\"card\">\n",
      "   <h1>\n",
      "    Happy Birthday ðŸŽ‚\n",
      "   </h1>\n",
      "   <p>\n",
      "    To my dearest best friend,\n",
      "    <br/>\n",
      "    <br/>\n",
      "    You light up every room with your smile and kindness.\n",
      "    <br/>\n",
      "    I'm so lucky to have you in my life.\n",
      "    <br/>\n",
      "    <br/>\n",
      "    Wishing you endless joy, laughter, and love today &amp; always! ðŸ’–\n",
      "   </p>\n",
      "   <div class=\"heart\">\n",
      "    ðŸ’–\n",
      "   </div>\n",
      "  </div>\n",
      "  <!-- Simple Confetti (optional) -->\n",
      "  <script>\n",
      "   for (let i = 0; i < 50; i++) {\n",
      "      let confetti = document.createElement('div');\n",
      "      confetti.className = 'confetti';\n",
      "      confetti.style.left = Math.random() * 100 + 'vw';\n",
      "      confetti.style.background = ['#ff6f91', '#ff9a9e', '#fad0c4', '#fbc2eb'][Math.floor(Math.random() * 4)];\n",
      "      confetti.style.animationDuration = (Math.random() * 3 + 2) + 's';\n",
      "      document.body.appendChild(confetti);\n",
      "    }\n",
      "  </script>\n",
      " </body>\n",
      "</html>\n",
      "\n"
     ]
    }
   ],
   "source": [
    "print(soup.prettify())"
   ]
  },
  {
   "cell_type": "code",
   "execution_count": 23,
   "id": "731d96ac",
   "metadata": {},
   "outputs": [
    {
     "name": "stdout",
     "output_type": "stream",
     "text": [
      "To my dearest best friend,\n",
      "       You light up every room with your smile and kindness. \n",
      "       I'm so lucky to have you in my life.\n",
      "       Wishing you endless joy, laughter, and love today & always! ðŸ’–\n",
      "    \n"
     ]
    }
   ],
   "source": [
    "print(soup.p.text)"
   ]
  },
  {
   "cell_type": "code",
   "execution_count": 26,
   "id": "3e021c34",
   "metadata": {},
   "outputs": [
    {
     "name": "stdout",
     "output_type": "stream",
     "text": [
      "<class 'str'>\n"
     ]
    }
   ],
   "source": [
    "print(type(soup.p.text))"
   ]
  },
  {
   "cell_type": "code",
   "execution_count": 29,
   "id": "2d8f0b39",
   "metadata": {},
   "outputs": [
    {
     "data": {
      "text/plain": [
       "\"TO MY DEAREST BEST FRIEND,\\n       YOU LIGHT UP EVERY ROOM WITH YOUR SMILE AND KINDNESS. \\n       I'M SO LUCKY TO HAVE YOU IN MY LIFE.\\n       WISHING YOU ENDLESS JOY, LAUGHTER, AND LOVE TODAY & ALWAYS! ÐŸ’–\\n    \""
      ]
     },
     "execution_count": 29,
     "metadata": {},
     "output_type": "execute_result"
    }
   ],
   "source": [
    "soup.p.text.upper()"
   ]
  },
  {
   "cell_type": "code",
   "execution_count": 43,
   "id": "a73b358a",
   "metadata": {},
   "outputs": [
    {
     "name": "stdout",
     "output_type": "stream",
     "text": [
      "\n",
      "\n",
      "<meta charset=\"utf-8\"/>\n",
      "\n",
      "\n",
      "<title>Happy Birthday Bestie! ðŸŽ‰</title>\n",
      "\n",
      "\n",
      "<style>\n",
      "    body {\n",
      "      margin: 0;\n",
      "      padding: 0;\n",
      "      background: linear-gradient(135deg, #ff9a9e, #fad0c4);\n",
      "      font-family: 'Comic Sans MS', cursive, sans-serif;\n",
      "      display: flex;\n",
      "      justify-content: center;\n",
      "      align-items: center;\n",
      "      height: 100vh;\n",
      "      overflow: hidden;\n",
      "    }\n",
      "\n",
      "    .card {\n",
      "      background: white;\n",
      "      padding: 30px 40px;\n",
      "      border-radius: 20px;\n",
      "      box-shadow: 0 15px 30px rgba(0,0,0,0.2);\n",
      "      text-align: center;\n",
      "      max-width: 500px;\n",
      "      animation: fadeIn 2s ease;\n",
      "    }\n",
      "\n",
      "    h1 {\n",
      "      color: #ff6f91;\n",
      "      font-size: 3em;\n",
      "      margin-bottom: 10px;\n",
      "      animation: float 2s ease-in-out infinite;\n",
      "    }\n",
      "\n",
      "    p {\n",
      "      color: #333;\n",
      "      font-size: 1.2em;\n",
      "      margin-top: 10px;\n",
      "      line-height: 1.6;\n",
      "    }\n",
      "\n",
      "    .heart {\n",
      "      font-size: 2.5em;\n",
      "      color: #ff6f91;\n",
      "      animation: beat 1s infinite;\n",
      "      margin-top: 20px;\n",
      "    }\n",
      "\n",
      "    @keyframes float {\n",
      "      0% { transform: translateY(0); }\n",
      "      50% { transform: translateY(-10px); }\n",
      "      100% { transform: translateY(0); }\n",
      "    }\n",
      "\n",
      "    @keyframes beat {\n",
      "      0%, 100% { transform: scale(1); }\n",
      "      50% { transform: scale(1.3); }\n",
      "    }\n",
      "\n",
      "    @keyframes fadeIn {\n",
      "      from { opacity: 0; transform: scale(0.8); }\n",
      "      to { opacity: 1; transform: scale(1); }\n",
      "    }\n",
      "\n",
      "    .confetti {\n",
      "      position: absolute;\n",
      "      width: 10px;\n",
      "      height: 10px;\n",
      "      background: yellow;\n",
      "      top: 0;\n",
      "      animation: fall 5s linear infinite;\n",
      "      opacity: 0.8;\n",
      "    }\n",
      "\n",
      "    @keyframes fall {\n",
      "      to {\n",
      "        transform: translateY(100vh) rotate(360deg);\n",
      "      }\n",
      "    }\n",
      "  </style>\n",
      "\n",
      "\n"
     ]
    }
   ],
   "source": [
    "for child in soup.head.children:\n",
    "    print(child)\n"
   ]
  },
  {
   "cell_type": "code",
   "execution_count": 45,
   "id": "747e100a",
   "metadata": {},
   "outputs": [
    {
     "data": {
      "text/plain": [
       "'Happy Birthday Bestie! ðŸŽ‰'"
      ]
     },
     "execution_count": 45,
     "metadata": {},
     "output_type": "execute_result"
    }
   ],
   "source": [
    "soup.title.get_text()"
   ]
  },
  {
   "cell_type": "code",
   "execution_count": 51,
   "id": "c8cd7a50",
   "metadata": {},
   "outputs": [
    {
     "data": {
      "text/plain": [
       "'Happy Birthday ðŸŽ‚'"
      ]
     },
     "execution_count": 51,
     "metadata": {},
     "output_type": "execute_result"
    }
   ],
   "source": [
    "soup.find(\"h1\").get_text()"
   ]
  },
  {
   "cell_type": "code",
   "execution_count": null,
   "id": "5dbca8fb",
   "metadata": {},
   "outputs": [
    {
     "name": "stdout",
     "output_type": "stream",
     "text": [
      "2.32.3\n"
     ]
    }
   ],
   "source": [
    "import requests\n"
   ]
  },
  {
   "cell_type": "code",
   "execution_count": 60,
   "id": "0b5a570b",
   "metadata": {},
   "outputs": [],
   "source": [
    "response=requests.get\n",
    "uri=\"https://api.github.com/search/repositories\"\n",
    "params={\"q\":\"request+language:Python\"}\n",
    "response=requests.get(uri,params=params)"
   ]
  },
  {
   "cell_type": "code",
   "execution_count": 61,
   "id": "9a0d3a5f",
   "metadata": {},
   "outputs": [
    {
     "data": {
      "text/plain": [
       "200"
      ]
     },
     "execution_count": 61,
     "metadata": {},
     "output_type": "execute_result"
    }
   ],
   "source": [
    "response.status_code"
   ]
  },
  {
   "cell_type": "code",
   "execution_count": 68,
   "id": "c2dcf393",
   "metadata": {},
   "outputs": [
    {
     "data": {
      "text/plain": [
       "b'{\"total_count\":263,\"incomplete_results\":false,\"items\":[{\"id\":33210074,\"node_id\":\"MDEwOlJlcG9zaXRvcnkzMzIxMDA3NA==\",\"name\":\"secrules-language-evaluation\",\"full_name\":\"SpiderLabs/secrules-language-evaluation\",\"private\":false,\"owner\":{\"login\":\"SpiderLabs\",\"id\":508521,\"node_id\":\"MDEyOk9yZ2FuaXphdGlvbjUwODUyMQ==\",\"avatar_url\":\"https://avatars.githubusercontent.com/u/508521?v=4\",\"gravatar_id\":\"\",\"url\":\"https://api.github.com/users/SpiderLabs\",\"html_url\":\"https://github.com/SpiderLabs\",\"followers_url\":\"https://api.github.com/users/SpiderLabs/followers\",\"following_url\":\"https://api.github.com/users/SpiderLabs/following{/other_user}\",\"gists_url\":\"https://api.github.com/users/SpiderLabs/gists{/gist_id}\",\"starred_url\":\"https://api.github.com/users/SpiderLabs/starred{/owner}{/repo}\",\"subscriptions_url\":\"https://api.github.com/users/SpiderLabs/subscriptions\",\"organizations_url\":\"https://api.github.com/users/SpiderLabs/orgs\",\"repos_url\":\"https://api.github.com/users/SpiderLabs/repos\",\"events_url\":\"https://api.github.com/users/SpiderLabs/events{/privacy}\",\"received_events_url\":\"https://api.github.com/users/SpiderLabs/received_events\",\"type\":\"Organization\",\"user_view_type\":\"public\",\"site_admin\":false},\"html_url\":\"https://github.com/SpiderLabs/secrules-language-evaluation\",\"description\":\"Set of Python scripts to perform SecRules language evaluation on a given http request.\",\"fork\":false,\"url\":\"https://api.github.com/repos/SpiderLabs/secrules-language-evaluation\",\"forks_url\":\"https://api.github.com/repos/SpiderLabs/secrules-language-evaluation/forks\",\"keys_url\":\"https://api.github.com/repos/SpiderLabs/secrules-language-evaluation/keys{/key_id}\",\"collaborators_url\":\"https://api.github.com/repos/SpiderLabs/secrules-language-evaluation/collaborators{/collaborator}\",\"teams_url\":\"https://api.github.com/repos/SpiderLabs/secrules-language-evaluation/teams\",\"hooks_url\":\"https://api.github.com/repos/SpiderLabs/secrules-language-evaluation/hooks\",\"issue_events_url\":\"https://api.github.com/repos/SpiderLabs/secrules-language-evaluation/issues/events{/number}\",\"events_url\":\"https://api.github.com/repos/SpiderLabs/secrules-language-evaluation/events\",\"assignees_url\":\"https://api.github.com/repos/SpiderLabs/secrules-language-evaluation/assignees{/user}\",\"branches_url\":\"https://api.github.com/repos/SpiderLabs/secrules-language-evaluation/branches{/branch}\",\"tags_url\":\"https://api.github.com/repos/SpiderLabs/secrules-language-evaluation/tags\",\"blobs_url\":\"https://api.github.com/repos/SpiderLabs/secrules-language-evaluation/git/blobs{/sha}\",\"git_tags_url\":\"https://api.github.com/repos/SpiderLabs/secrules-language-evaluation/git/tags{/sha}\",\"git_refs_url\":\"https://api.github.com/repos/SpiderLabs/secrules-language-evaluation/git/refs{/sha}\",\"trees_url\":\"https://api.github.com/repos/SpiderLabs/secrules-language-evaluation/git/trees{/sha}\",\"statuses_url\":\"https://api.github.com/repos/SpiderLabs/secrules-language-evaluation/statuses/{sha}\",\"languages_url\":\"https://api.github.com/repos/SpiderLabs/secrules-language-evaluation/languages\",\"stargazers_url\":\"https://api.github.com/repos/SpiderLabs/secrules-language-evaluation/stargazers\",\"contributors_url\":\"https://api.github.com/repos/SpiderLabs/secrules-language-evaluation/contributors\",\"subscribers_url\":\"https://api.github.com/repos/SpiderLabs/secrules-language-evaluation/subscribers\",\"subscription_url\":\"https://api.github.com/repos/SpiderLabs/secrules-language-evaluation/subscription\",\"commits_url\":\"https://api.github.com/repos/SpiderLabs/secrules-language-evaluation/commits{/sha}\",\"git_commits_url\":\"https://api.github.com/repos/SpiderLabs/secrules-language-evaluation/git/commits{/sha}\",\"comments_url\":\"https://api.github.com/repos/SpiderLabs/secrules-language-evaluation/comments{/number}\",\"issue_comment_url\":\"https://api.github.com/repos/SpiderLabs/secrules-language-evaluation/issues/comments{/number}\",\"contents_url\":\"https://api.github.com/repos/SpiderLabs/secrules-language-evaluation/contents/{+path}\",\"compare_url\":\"https://api.github.com/repos/SpiderLabs/secrules-language-evaluation/compare/{base}...{head}\",\"merges_url\":\"https://api.github.com/repos/SpiderLabs/secrules-language-evaluation/merges\",\"archive_url\":\"https://api.github.com/repos/SpiderLabs/secrules-language-evaluation/{archive_format}{/ref}\",\"downloads_url\":\"https://api.github.com/repos/SpiderLabs/secrules-language-evaluation/downloads\",\"issues_url\":\"https://api.github.com/repos/SpiderLabs/secrules-language-evaluation/issues{/number}\",\"pulls_url\":\"https://api.github.com/repos/SpiderLabs/secrules-language-evaluation/pulls{/number}\",\"milestones_url\":\"https://api.github.com/repos/SpiderLabs/secrules-language-evaluation/milestones{/number}\",\"notifications_url\":\"https://api.github.com/repos/SpiderLabs/secrules-language-evaluation/notifications{?since,all,participating}\",\"labels_url\":\"https://api.github.com/repos/SpiderLabs/secrules-language-evaluation/labels{/name}\",\"releases_url\":\"https://api.github.com/repos/SpiderLabs/secrules-language-e'"
      ]
     },
     "execution_count": 68,
     "metadata": {},
     "output_type": "execute_result"
    }
   ],
   "source": [
    "response.content[:5000]"
   ]
  },
  {
   "cell_type": "code",
   "execution_count": 76,
   "id": "0448db27",
   "metadata": {},
   "outputs": [],
   "source": [
    "uri='https://httpbin.org/post'\n",
    "data={\"usename\":\"Bruce\",\"password\":\"bryce123\"}\n",
    "response=requests.post(uri,json=data)\n"
   ]
  },
  {
   "cell_type": "code",
   "execution_count": 77,
   "id": "f0d38043",
   "metadata": {},
   "outputs": [
    {
     "data": {
      "text/plain": [
       "200"
      ]
     },
     "execution_count": 77,
     "metadata": {},
     "output_type": "execute_result"
    }
   ],
   "source": [
    "response.status_code"
   ]
  },
  {
   "cell_type": "code",
   "execution_count": 78,
   "id": "2cfab0e7",
   "metadata": {},
   "outputs": [
    {
     "data": {
      "text/plain": [
       "{'args': {},\n",
       " 'data': '{\"usename\": \"Bruce\", \"password\": \"bryce123\"}',\n",
       " 'files': {},\n",
       " 'form': {},\n",
       " 'headers': {'Accept': '*/*',\n",
       "  'Accept-Encoding': 'gzip, deflate',\n",
       "  'Content-Length': '44',\n",
       "  'Content-Type': 'application/json',\n",
       "  'Host': 'httpbin.org',\n",
       "  'User-Agent': 'python-requests/2.32.3',\n",
       "  'X-Amzn-Trace-Id': 'Root=1-683bfe60-3dd736a4280c02285181099f'},\n",
       " 'json': {'password': 'bryce123', 'usename': 'Bruce'},\n",
       " 'origin': '103.116.238.158',\n",
       " 'url': 'https://httpbin.org/post'}"
      ]
     },
     "execution_count": 78,
     "metadata": {},
     "output_type": "execute_result"
    }
   ],
   "source": [
    "response.json()"
   ]
  },
  {
   "cell_type": "code",
   "execution_count": null,
   "id": "63813845",
   "metadata": {},
   "outputs": [],
   "source": []
  },
  {
   "cell_type": "code",
   "execution_count": null,
   "id": "d41613b5",
   "metadata": {},
   "outputs": [],
   "source": []
  }
 ],
 "metadata": {
  "kernelspec": {
   "display_name": "Python 3",
   "language": "python",
   "name": "python3"
  },
  "language_info": {
   "codemirror_mode": {
    "name": "ipython",
    "version": 3
   },
   "file_extension": ".py",
   "mimetype": "text/x-python",
   "name": "python",
   "nbconvert_exporter": "python",
   "pygments_lexer": "ipython3",
   "version": "3.13.0"
  }
 },
 "nbformat": 4,
 "nbformat_minor": 5
}
